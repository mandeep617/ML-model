{
 "cells": [
  {
   "cell_type": "code",
   "execution_count": 70,
   "metadata": {},
   "outputs": [],
   "source": [
    "import pandas as pd \n",
    "import numpy as np\n",
    "import matplotlib.pyplot as plt\n",
    "from wordcloud import WordCloud, STOPWORDS, ImageColorGenerator\n",
    "import re \n",
    "import nltk\n",
    "from nltk.stem import WordNetLemmatizer\n",
    "from nltk.corpus import stopwords\n",
    "from nltk import FreqDist\n",
    "from nltk import ngrams\n",
    "import spacy\n",
    "%matplotlib inline\n",
    "\n",
    "wordnet = WordNetLemmatizer()\n",
    "sp = spacy.load('en_core_web_sm')\n",
    "all_stopwords = sp.Defaults.stop_words"
   ]
  },
  {
   "cell_type": "code",
   "execution_count": 71,
   "metadata": {},
   "outputs": [],
   "source": [
    "def clean_text(text,stopwords):\n",
    "    text = re.sub('[^a-zA-Z]', ' ',text)\n",
    "    text = text.lower()\n",
    "    text = text.split(' ')\n",
    "    text = [wordnet.lemmatize(word) for word in text]\n",
    "    text = [word for word in text if word not in stopwords]\n",
    "    text = ' '.join(text)\n",
    "    return text\n",
    "\n",
    "def combine_data(list1, list2):\n",
    "    combined_data = []\n",
    "    for i in range(len(list1)):\n",
    "        new_str = list1[i] +' ' + list2[i]\n",
    "        combined_data.append(new_str)\n",
    "    return combined_data\n",
    "\n",
    "def generate_frequency(text_list):\n",
    "    fdist =  FreqDist()\n",
    "    for i in text_list:\n",
    "        words = i.split(' ')\n",
    "        words = [word for word in words if word != '']\n",
    "        words = ngrams(words,1)\n",
    "        for x in words:\n",
    "            fdist[x[0]]+=1\n",
    "    return fdist"
   ]
  },
  {
   "cell_type": "code",
   "execution_count": 72,
   "metadata": {},
   "outputs": [],
   "source": [
    "df = pd.read_csv('../Dataset/RedditSuicideData.csv')"
   ]
  },
  {
   "cell_type": "code",
   "execution_count": 73,
   "metadata": {},
   "outputs": [
    {
     "data": {
      "text/html": [
       "<div>\n",
       "<style scoped>\n",
       "    .dataframe tbody tr th:only-of-type {\n",
       "        vertical-align: middle;\n",
       "    }\n",
       "\n",
       "    .dataframe tbody tr th {\n",
       "        vertical-align: top;\n",
       "    }\n",
       "\n",
       "    .dataframe thead th {\n",
       "        text-align: right;\n",
       "    }\n",
       "</style>\n",
       "<table border=\"1\" class=\"dataframe\">\n",
       "  <thead>\n",
       "    <tr style=\"text-align: right;\">\n",
       "      <th></th>\n",
       "      <th>id</th>\n",
       "      <th>subreddit</th>\n",
       "      <th>title</th>\n",
       "      <th>text</th>\n",
       "    </tr>\n",
       "  </thead>\n",
       "  <tbody>\n",
       "    <tr>\n",
       "      <th>0</th>\n",
       "      <td>greo4o</td>\n",
       "      <td>SuicideWatch</td>\n",
       "      <td>“If you truly wanted to kill yourself and wasn...</td>\n",
       "      <td>Yeah because I DONT WANT TO FUCKING DO IT, but...</td>\n",
       "    </tr>\n",
       "    <tr>\n",
       "      <th>1</th>\n",
       "      <td>c34ko8</td>\n",
       "      <td>SuicideWatch</td>\n",
       "      <td>My girlfriend killed herself a week after we b...</td>\n",
       "      <td>Hello. I don't really know how to start this. ...</td>\n",
       "    </tr>\n",
       "    <tr>\n",
       "      <th>2</th>\n",
       "      <td>f9d5go</td>\n",
       "      <td>SuicideWatch</td>\n",
       "      <td>Anyone else not want to die and not want to ki...</td>\n",
       "      <td>NaN</td>\n",
       "    </tr>\n",
       "    <tr>\n",
       "      <th>3</th>\n",
       "      <td>e8gjky</td>\n",
       "      <td>SuicideWatch</td>\n",
       "      <td>Raped in front of my girlfriend. feeling like ...</td>\n",
       "      <td>\\n\\nI don't know what to say or do, I just fe...</td>\n",
       "    </tr>\n",
       "    <tr>\n",
       "      <th>4</th>\n",
       "      <td>kn89hg</td>\n",
       "      <td>SuicideWatch</td>\n",
       "      <td>\"Suicide is a permanent solution to a temporar...</td>\n",
       "      <td>NaN</td>\n",
       "    </tr>\n",
       "  </tbody>\n",
       "</table>\n",
       "</div>"
      ],
      "text/plain": [
       "       id     subreddit                                              title  \\\n",
       "0  greo4o  SuicideWatch  “If you truly wanted to kill yourself and wasn...   \n",
       "1  c34ko8  SuicideWatch  My girlfriend killed herself a week after we b...   \n",
       "2  f9d5go  SuicideWatch  Anyone else not want to die and not want to ki...   \n",
       "3  e8gjky  SuicideWatch  Raped in front of my girlfriend. feeling like ...   \n",
       "4  kn89hg  SuicideWatch  \"Suicide is a permanent solution to a temporar...   \n",
       "\n",
       "                                                text  \n",
       "0  Yeah because I DONT WANT TO FUCKING DO IT, but...  \n",
       "1  Hello. I don't really know how to start this. ...  \n",
       "2                                                NaN  \n",
       "3   \\n\\nI don't know what to say or do, I just fe...  \n",
       "4                                                NaN  "
      ]
     },
     "execution_count": 73,
     "metadata": {},
     "output_type": "execute_result"
    }
   ],
   "source": [
    "df.head()"
   ]
  },
  {
   "cell_type": "code",
   "execution_count": 74,
   "metadata": {},
   "outputs": [
    {
     "name": "stdout",
     "output_type": "stream",
     "text": [
      "<class 'pandas.core.frame.DataFrame'>\n",
      "RangeIndex: 2958 entries, 0 to 2957\n",
      "Data columns (total 4 columns):\n",
      " #   Column     Non-Null Count  Dtype \n",
      "---  ------     --------------  ----- \n",
      " 0   id         2958 non-null   object\n",
      " 1   subreddit  2958 non-null   object\n",
      " 2   title      2958 non-null   object\n",
      " 3   text       2566 non-null   object\n",
      "dtypes: object(4)\n",
      "memory usage: 92.6+ KB\n"
     ]
    }
   ],
   "source": [
    "df.info()"
   ]
  },
  {
   "cell_type": "code",
   "execution_count": 75,
   "metadata": {},
   "outputs": [],
   "source": [
    "new_words = [\"http\", \"www\", \"co\", \"u\", \"com\", \"t\", \"s\", \"m\",\n",
    "             \"ve\", \"dy\", \"ll\", 'n', 'r', 'b', \"wa\", \"y\", \"don\", \"ha\"]\n",
    "for words in new_words:\n",
    "    all_stopwords.add(words)"
   ]
  },
  {
   "cell_type": "code",
   "execution_count": 76,
   "metadata": {},
   "outputs": [],
   "source": [
    "df['text'].fillna(value=' ',inplace=True)"
   ]
  },
  {
   "cell_type": "code",
   "execution_count": 77,
   "metadata": {},
   "outputs": [],
   "source": [
    "df['title'] = df['title'].apply(clean_text, stopwords = all_stopwords)\n",
    "df['text'] = df['text'].apply(clean_text, stopwords = all_stopwords)"
   ]
  },
  {
   "cell_type": "code",
   "execution_count": 78,
   "metadata": {},
   "outputs": [],
   "source": [
    "df['cleaned'] = combine_data(df['title'],df['text'])"
   ]
  },
  {
   "cell_type": "code",
   "execution_count": 79,
   "metadata": {},
   "outputs": [],
   "source": [
    "df.to_csv('./cleanedRedditSuicide.csv', index=False)"
   ]
  },
  {
   "cell_type": "code",
   "execution_count": 80,
   "metadata": {
    "scrolled": false
   },
   "outputs": [],
   "source": [
    "fdist = generate_frequency(df['cleaned'])\n",
    "top_words = fdist.most_common(n=150)"
   ]
  },
  {
   "cell_type": "code",
   "execution_count": 81,
   "metadata": {},
   "outputs": [],
   "source": [
    "word_dict = {}\n",
    "for i in range(len(top_words)):\n",
    "    word_dict[top_words[i][0]] = top_words[i][1]"
   ]
  },
  {
   "cell_type": "code",
   "execution_count": 83,
   "metadata": {},
   "outputs": [],
   "source": [
    "df = pd.read_csv('../Dataset/TwitterSuicideData.csv')"
   ]
  },
  {
   "cell_type": "code",
   "execution_count": 84,
   "metadata": {},
   "outputs": [
    {
     "data": {
      "text/html": [
       "<div>\n",
       "<style scoped>\n",
       "    .dataframe tbody tr th:only-of-type {\n",
       "        vertical-align: middle;\n",
       "    }\n",
       "\n",
       "    .dataframe tbody tr th {\n",
       "        vertical-align: top;\n",
       "    }\n",
       "\n",
       "    .dataframe thead th {\n",
       "        text-align: right;\n",
       "    }\n",
       "</style>\n",
       "<table border=\"1\" class=\"dataframe\">\n",
       "  <thead>\n",
       "    <tr style=\"text-align: right;\">\n",
       "      <th></th>\n",
       "      <th>id</th>\n",
       "      <th>date</th>\n",
       "      <th>text</th>\n",
       "    </tr>\n",
       "  </thead>\n",
       "  <tbody>\n",
       "    <tr>\n",
       "      <th>0</th>\n",
       "      <td>1361102918728884230</td>\n",
       "      <td>2021-02-14 23:59:58+00:00</td>\n",
       "      <td>@CourageBipolar @VoltzRoad @BAIntactivists had...</td>\n",
       "    </tr>\n",
       "    <tr>\n",
       "      <th>1</th>\n",
       "      <td>1361102815104557057</td>\n",
       "      <td>2021-02-14 23:59:33+00:00</td>\n",
       "      <td>@pcrafton4 @MrMan45676274 @beardedmilkdud6 @Ci...</td>\n",
       "    </tr>\n",
       "    <tr>\n",
       "      <th>2</th>\n",
       "      <td>1361102759966224386</td>\n",
       "      <td>2021-02-14 23:59:20+00:00</td>\n",
       "      <td>@langoo @St3v3ns1 @BFryback Sounds like the mo...</td>\n",
       "    </tr>\n",
       "    <tr>\n",
       "      <th>3</th>\n",
       "      <td>1361102721139499016</td>\n",
       "      <td>2021-02-14 23:59:11+00:00</td>\n",
       "      <td>tw // suicide ??\\n\\nsomeone talk me out of it pls</td>\n",
       "    </tr>\n",
       "    <tr>\n",
       "      <th>4</th>\n",
       "      <td>1361102674079457281</td>\n",
       "      <td>2021-02-14 23:59:00+00:00</td>\n",
       "      <td>Death metal looked to have exhaled its last by...</td>\n",
       "    </tr>\n",
       "  </tbody>\n",
       "</table>\n",
       "</div>"
      ],
      "text/plain": [
       "                    id                       date  \\\n",
       "0  1361102918728884230  2021-02-14 23:59:58+00:00   \n",
       "1  1361102815104557057  2021-02-14 23:59:33+00:00   \n",
       "2  1361102759966224386  2021-02-14 23:59:20+00:00   \n",
       "3  1361102721139499016  2021-02-14 23:59:11+00:00   \n",
       "4  1361102674079457281  2021-02-14 23:59:00+00:00   \n",
       "\n",
       "                                                text  \n",
       "0  @CourageBipolar @VoltzRoad @BAIntactivists had...  \n",
       "1  @pcrafton4 @MrMan45676274 @beardedmilkdud6 @Ci...  \n",
       "2  @langoo @St3v3ns1 @BFryback Sounds like the mo...  \n",
       "3  tw // suicide ??\\n\\nsomeone talk me out of it pls  \n",
       "4  Death metal looked to have exhaled its last by...  "
      ]
     },
     "execution_count": 84,
     "metadata": {},
     "output_type": "execute_result"
    }
   ],
   "source": [
    "df.head()"
   ]
  },
  {
   "cell_type": "code",
   "execution_count": 85,
   "metadata": {},
   "outputs": [
    {
     "name": "stdout",
     "output_type": "stream",
     "text": [
      "<class 'pandas.core.frame.DataFrame'>\n",
      "RangeIndex: 3000 entries, 0 to 2999\n",
      "Data columns (total 3 columns):\n",
      " #   Column  Non-Null Count  Dtype \n",
      "---  ------  --------------  ----- \n",
      " 0   id      3000 non-null   int64 \n",
      " 1   date    3000 non-null   object\n",
      " 2   text    3000 non-null   object\n",
      "dtypes: int64(1), object(2)\n",
      "memory usage: 70.4+ KB\n"
     ]
    }
   ],
   "source": [
    "df.info()"
   ]
  },
  {
   "cell_type": "code",
   "execution_count": 86,
   "metadata": {},
   "outputs": [],
   "source": [
    "df['cleaned'] = df['text'].apply(clean_text,stopwords = all_stopwords)"
   ]
  },
  {
   "cell_type": "code",
   "execution_count": 87,
   "metadata": {},
   "outputs": [],
   "source": [
    "df.to_csv('./cleanedTwitterSuicide.csv', index=False)"
   ]
  },
  {
   "cell_type": "code",
   "execution_count": 88,
   "metadata": {},
   "outputs": [],
   "source": [
    "fdist = generate_frequency(df['cleaned'])\n",
    "top_words = fdist.most_common(n=150)"
   ]
  },
  {
   "cell_type": "code",
   "execution_count": 89,
   "metadata": {},
   "outputs": [],
   "source": [
    "word_dict = {}\n",
    "for i in range(len(top_words)):\n",
    "    word_dict[top_words[i][0]] = top_words[i][1]"
   ]
  },
  {
   "cell_type": "code",
   "execution_count": 91,
   "metadata": {},
   "outputs": [],
   "source": [
    "df = pd.read_csv('../Dataset/NoSuicideData.csv')"
   ]
  },
  {
   "cell_type": "code",
   "execution_count": 92,
   "metadata": {},
   "outputs": [
    {
     "data": {
      "text/html": [
       "<div>\n",
       "<style scoped>\n",
       "    .dataframe tbody tr th:only-of-type {\n",
       "        vertical-align: middle;\n",
       "    }\n",
       "\n",
       "    .dataframe tbody tr th {\n",
       "        vertical-align: top;\n",
       "    }\n",
       "\n",
       "    .dataframe thead th {\n",
       "        text-align: right;\n",
       "    }\n",
       "</style>\n",
       "<table border=\"1\" class=\"dataframe\">\n",
       "  <thead>\n",
       "    <tr style=\"text-align: right;\">\n",
       "      <th></th>\n",
       "      <th>id</th>\n",
       "      <th>subreddit</th>\n",
       "      <th>title</th>\n",
       "      <th>text</th>\n",
       "    </tr>\n",
       "  </thead>\n",
       "  <tbody>\n",
       "    <tr>\n",
       "      <th>0</th>\n",
       "      <td>62sjuh</td>\n",
       "      <td>movies</td>\n",
       "      <td>The Senate. Upvote this so that people see it ...</td>\n",
       "      <td>NaN</td>\n",
       "    </tr>\n",
       "    <tr>\n",
       "      <th>1</th>\n",
       "      <td>iikebv</td>\n",
       "      <td>movies</td>\n",
       "      <td>‘Black Panther’ actor Chadwick Boseman dies at...</td>\n",
       "      <td>NaN</td>\n",
       "    </tr>\n",
       "    <tr>\n",
       "      <th>2</th>\n",
       "      <td>b1i33f</td>\n",
       "      <td>movies</td>\n",
       "      <td>Disney Reinstates Director James Gunn For ‘Gua...</td>\n",
       "      <td>NaN</td>\n",
       "    </tr>\n",
       "    <tr>\n",
       "      <th>3</th>\n",
       "      <td>488gjl</td>\n",
       "      <td>movies</td>\n",
       "      <td>Leo gets the Oscar!</td>\n",
       "      <td>NaN</td>\n",
       "    </tr>\n",
       "    <tr>\n",
       "      <th>4</th>\n",
       "      <td>jlhi6x</td>\n",
       "      <td>movies</td>\n",
       "      <td>Sir Sean Connery dies aged 90</td>\n",
       "      <td>NaN</td>\n",
       "    </tr>\n",
       "  </tbody>\n",
       "</table>\n",
       "</div>"
      ],
      "text/plain": [
       "       id subreddit                                              title text\n",
       "0  62sjuh    movies  The Senate. Upvote this so that people see it ...  NaN\n",
       "1  iikebv    movies  ‘Black Panther’ actor Chadwick Boseman dies at...  NaN\n",
       "2  b1i33f    movies  Disney Reinstates Director James Gunn For ‘Gua...  NaN\n",
       "3  488gjl    movies                                Leo gets the Oscar!  NaN\n",
       "4  jlhi6x    movies                      Sir Sean Connery dies aged 90  NaN"
      ]
     },
     "execution_count": 92,
     "metadata": {},
     "output_type": "execute_result"
    }
   ],
   "source": [
    "df.head()"
   ]
  },
  {
   "cell_type": "code",
   "execution_count": 93,
   "metadata": {},
   "outputs": [
    {
     "name": "stdout",
     "output_type": "stream",
     "text": [
      "<class 'pandas.core.frame.DataFrame'>\n",
      "RangeIndex: 5380 entries, 0 to 5379\n",
      "Data columns (total 4 columns):\n",
      " #   Column     Non-Null Count  Dtype \n",
      "---  ------     --------------  ----- \n",
      " 0   id         5380 non-null   object\n",
      " 1   subreddit  5380 non-null   object\n",
      " 2   title      5380 non-null   object\n",
      " 3   text       1452 non-null   object\n",
      "dtypes: object(4)\n",
      "memory usage: 168.2+ KB\n"
     ]
    }
   ],
   "source": [
    "df.info()"
   ]
  },
  {
   "cell_type": "code",
   "execution_count": 94,
   "metadata": {},
   "outputs": [],
   "source": [
    "df['text'].fillna(value=' ',inplace=True)"
   ]
  },
  {
   "cell_type": "code",
   "execution_count": 95,
   "metadata": {},
   "outputs": [],
   "source": [
    "df['title'] = df['title'].apply(clean_text,stopwords = all_stopwords)\n",
    "df['text'] = df['text'].apply(clean_text,stopwords = all_stopwords)"
   ]
  },
  {
   "cell_type": "code",
   "execution_count": 96,
   "metadata": {},
   "outputs": [],
   "source": [
    "df['cleaned'] = combine_data(df['title'],df['text'])"
   ]
  },
  {
   "cell_type": "code",
   "execution_count": 97,
   "metadata": {},
   "outputs": [],
   "source": [
    "df.to_csv('./cleanedRedditNonSuicide.csv', index=False)"
   ]
  },
  {
   "cell_type": "code",
   "execution_count": 98,
   "metadata": {},
   "outputs": [],
   "source": [
    "fdist = generate_frequency(df['cleaned'])\n",
    "top_words = fdist.most_common(n=150)"
   ]
  },
  {
   "cell_type": "code",
   "execution_count": 99,
   "metadata": {},
   "outputs": [],
   "source": [
    "word_dict = {}\n",
    "for i in range(len(top_words)):\n",
    "    word_dict[top_words[i][0]] = top_words[i][1]"
   ]
  }
 ],
 "metadata": {
  "kernelspec": {
   "display_name": "Python 3",
   "language": "python",
   "name": "python3"
  },
  "language_info": {
   "codemirror_mode": {
    "name": "ipython",
    "version": 3
   },
   "file_extension": ".py",
   "mimetype": "text/x-python",
   "name": "python",
   "nbconvert_exporter": "python",
   "pygments_lexer": "ipython3",
   "version": "3.9.6"
  }
 },
 "nbformat": 4,
 "nbformat_minor": 2
}
